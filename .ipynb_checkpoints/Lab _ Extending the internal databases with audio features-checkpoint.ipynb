{
 "cells": [
  {
   "cell_type": "code",
   "execution_count": null,
   "id": "1bf76955",
   "metadata": {},
   "outputs": [],
   "source": [
    "from config import *\n",
    "import spotipy\n",
    "import json\n",
    "from spotipy.oauth2 import SpotifyClientCredentials"
   ]
  },
  {
   "cell_type": "code",
   "execution_count": null,
   "id": "69dfa313",
   "metadata": {},
   "outputs": [],
   "source": [
    "#Initialize SpotiPy with user credentias #\n",
    "sp = spotipy.Spotify(auth_manager=SpotifyClientCredentials(client_id=Client_ID,\n",
    "                                                           client_secret=Client_Secret))"
   ]
  },
  {
   "cell_type": "code",
   "execution_count": null,
   "id": "1764b752",
   "metadata": {},
   "outputs": [],
   "source": [
    "results = sp.search(q=\"tracks:\"+song_name+\" artist:\"+artist_name,limit=1)"
   ]
  },
  {
   "cell_type": "code",
   "execution_count": null,
   "id": "2cbf4832",
   "metadata": {},
   "outputs": [],
   "source": [
    "def search_song(title, artist, limit):\n",
    "    results = sp.search(q=\"tracks:\"+title+\" artist:\"+artist,limit=1)\n",
    "    \n",
    "\n",
    "    \n",
    "list_of_ids = []\n",
    "try:\n",
    "  id = search_song(title, artist, limit)\n",
    "  list_of_ids.append(id)\n",
    "except:\n",
    "  print(\"Song not found!\")\n",
    "  list_of_ids.append(\"\")\n",
    "\n",
    "df[\"id\"] = list_of_ids\n",
    "\n",
    "# Code to remove songs without IDs from the databases."
   ]
  }
 ],
 "metadata": {
  "kernelspec": {
   "display_name": "Python 3 (ipykernel)",
   "language": "python",
   "name": "python3"
  },
  "language_info": {
   "codemirror_mode": {
    "name": "ipython",
    "version": 3
   },
   "file_extension": ".py",
   "mimetype": "text/x-python",
   "name": "python",
   "nbconvert_exporter": "python",
   "pygments_lexer": "ipython3",
   "version": "3.11.5"
  }
 },
 "nbformat": 4,
 "nbformat_minor": 5
}
